{
  "nbformat": 4,
  "nbformat_minor": 0,
  "metadata": {
    "colab": {
      "provenance": [],
      "authorship_tag": "ABX9TyMFHWFcb6x+vLhvtJJ0puIn",
      "include_colab_link": true
    },
    "kernelspec": {
      "name": "python3",
      "display_name": "Python 3"
    },
    "language_info": {
      "name": "python"
    }
  },
  "cells": [
    {
      "cell_type": "markdown",
      "metadata": {
        "id": "view-in-github",
        "colab_type": "text"
      },
      "source": [
        "<a href=\"https://colab.research.google.com/github/Rino-AR/Big-Data/blob/main/BigData_3.ipynb\" target=\"_parent\"><img src=\"https://colab.research.google.com/assets/colab-badge.svg\" alt=\"Open In Colab\"/></a>"
      ]
    },
    {
      "cell_type": "markdown",
      "source": [
        "### 1. Pengenalan Spark DataFrames\n",
        "Spark DataFrame menyediakan struktur data yang optimal dengan operasi yang dioptimalkan untuk pemrosesan data besar, yang sangat mirip dengan DataFrame di Pandas atau di RDBMS.\n",
        "\n",
        "- **Tugas 1**: Buat DataFrame sederhana di Spark dan eksplorasi beberapa fungsi dasar yang tersedia."
      ],
      "metadata": {
        "id": "P1YWTAUYP2QI"
      }
    },
    {
      "cell_type": "code",
      "execution_count": null,
      "metadata": {
        "colab": {
          "base_uri": "https://localhost:8080/"
        },
        "id": "f9ZZJk5RNv3d",
        "outputId": "a4ee79e0-556f-48bc-bd20-77801b993e4b"
      },
      "outputs": [
        {
          "output_type": "stream",
          "name": "stdout",
          "text": [
            "+------------+-----------+------+\n",
            "|EmployeeName| Department|Salary|\n",
            "+------------+-----------+------+\n",
            "|        Pepe|      Sales|  3000|\n",
            "| Loughshinny|      Sales|  4600|\n",
            "|      Eblana|Necromancer|  4100|\n",
            "|  Blemishine|    Finance|  3000|\n",
            "|    Cellinia|    Finance|  5000|\n",
            "+------------+-----------+------+\n",
            "\n"
          ]
        }
      ],
      "source": [
        "# Contoh membuat DataFrame sederhana dan operasi dasar\n",
        "from pyspark.sql import SparkSession\n",
        "spark = SparkSession.builder.appName('HandsOnPertemuan3').getOrCreate()\n",
        "\n",
        "data = [('Pepe', 'Sales', 3000),\n",
        "        ('Loughshinny', 'Sales', 4600),\n",
        "        ('Eblana', 'Necromancer', 4100),\n",
        "        ('Blemishine', 'Finance', 3000),\n",
        "        ('Cellinia', 'Finance', 5000)]\n",
        "columns = ['EmployeeName', 'Department', 'Salary']\n",
        "\n",
        "df = spark.createDataFrame(data, schema=columns)\n",
        "df.show()"
      ]
    },
    {
      "cell_type": "code",
      "source": [
        "df.printSchema()"
      ],
      "metadata": {
        "colab": {
          "base_uri": "https://localhost:8080/"
        },
        "id": "SMT9CpF2QjcB",
        "outputId": "7ae53038-bd3d-4d42-f9ad-3a64bb22fe27"
      },
      "execution_count": null,
      "outputs": [
        {
          "output_type": "stream",
          "name": "stdout",
          "text": [
            "root\n",
            " |-- EmployeeName: string (nullable = true)\n",
            " |-- Department: string (nullable = true)\n",
            " |-- Salary: long (nullable = true)\n",
            "\n"
          ]
        }
      ]
    },
    {
      "cell_type": "code",
      "source": [
        "df.describe()"
      ],
      "metadata": {
        "colab": {
          "base_uri": "https://localhost:8080/"
        },
        "id": "mK5bEeVQRaMK",
        "outputId": "b9878b30-3839-4844-9125-06e8fe491543"
      },
      "execution_count": null,
      "outputs": [
        {
          "output_type": "execute_result",
          "data": {
            "text/plain": [
              "DataFrame[summary: string, EmployeeName: string, Department: string, Salary: string]"
            ]
          },
          "metadata": {},
          "execution_count": 22
        }
      ]
    },
    {
      "cell_type": "code",
      "source": [
        "df.describe().show()"
      ],
      "metadata": {
        "colab": {
          "base_uri": "https://localhost:8080/"
        },
        "id": "pEbu3iLgRMHs",
        "outputId": "12f7857c-d2e6-4e3b-af69-9d7a2053af97"
      },
      "execution_count": null,
      "outputs": [
        {
          "output_type": "stream",
          "name": "stdout",
          "text": [
            "+-------+------------+----------+-----------------+\n",
            "|summary|EmployeeName|Department|           Salary|\n",
            "+-------+------------+----------+-----------------+\n",
            "|  count|           5|         5|                5|\n",
            "|   mean|        NULL|      NULL|           3940.0|\n",
            "| stddev|        NULL|      NULL|915.4233993076647|\n",
            "|    min|  Blemishine|   Finance|             3000|\n",
            "|    max|        Pepe|     Sales|             5000|\n",
            "+-------+------------+----------+-----------------+\n",
            "\n"
          ]
        }
      ]
    },
    {
      "cell_type": "markdown",
      "source": [
        "### 2. Transformasi Dasar dengan DataFrames\n",
        "Pemrosesan data meliputi transformasi seperti filtering, selections, dan aggregations. Spark menyediakan cara efisien untuk melaksanakan operasi ini.\n",
        "\n",
        "- **Tugas 2**: Gunakan operasi filter, select, groupBy untuk mengekstrak informasi dari data, serta lakukan agregasi data untuk mendapatkan insight tentang dataset menggunakan perintah seperti mean, max, sum."
      ],
      "metadata": {
        "id": "traTx2CaUX9a"
      }
    },
    {
      "cell_type": "code",
      "source": [
        "df.select('EmployeeName', 'Salary').show()"
      ],
      "metadata": {
        "colab": {
          "base_uri": "https://localhost:8080/"
        },
        "id": "UCpeiOmfUY-i",
        "outputId": "2e624d88-1c86-4d29-ce29-c60bccc3ee61"
      },
      "execution_count": null,
      "outputs": [
        {
          "output_type": "stream",
          "name": "stdout",
          "text": [
            "+------------+------+\n",
            "|EmployeeName|Salary|\n",
            "+------------+------+\n",
            "|        Pepe|  3000|\n",
            "| Loughshinny|  4600|\n",
            "|      Eblana|  4100|\n",
            "|  Blemishine|  3000|\n",
            "|    Cellinia|  5000|\n",
            "+------------+------+\n",
            "\n"
          ]
        }
      ]
    },
    {
      "cell_type": "code",
      "source": [
        "df.filter(df['Salary'] > 3000).show()"
      ],
      "metadata": {
        "colab": {
          "base_uri": "https://localhost:8080/"
        },
        "id": "cqtY4tLBUh8A",
        "outputId": "4feeffbc-1a79-4341-a22c-7c21c4e5e18f"
      },
      "execution_count": null,
      "outputs": [
        {
          "output_type": "stream",
          "name": "stdout",
          "text": [
            "+------------+-----------+------+\n",
            "|EmployeeName| Department|Salary|\n",
            "+------------+-----------+------+\n",
            "| Loughshinny|      Sales|  4600|\n",
            "|      Eblana|Necromancer|  4100|\n",
            "|    Cellinia|    Finance|  5000|\n",
            "+------------+-----------+------+\n",
            "\n"
          ]
        }
      ]
    },
    {
      "cell_type": "code",
      "source": [
        "df.groupBy('Department').avg('Salary').show()"
      ],
      "metadata": {
        "colab": {
          "base_uri": "https://localhost:8080/"
        },
        "id": "CXcyz9N1Upd_",
        "outputId": "0858a289-477d-49a4-8c64-8b0f5005766b"
      },
      "execution_count": null,
      "outputs": [
        {
          "output_type": "stream",
          "name": "stdout",
          "text": [
            "+-----------+-----------+\n",
            "| Department|avg(Salary)|\n",
            "+-----------+-----------+\n",
            "|      Sales|     3800.0|\n",
            "|    Finance|     4000.0|\n",
            "|Necromancer|     4100.0|\n",
            "+-----------+-----------+\n",
            "\n"
          ]
        }
      ]
    },
    {
      "cell_type": "code",
      "source": [
        "from pyspark.sql.functions import count, mean, max, sum, min\n",
        "\n",
        "insight_dataset = df.groupBy(\"Department\") \\\n",
        "  .agg(\n",
        "      count(\"EmployeeName\").alias(\"Jumlah_Karyawan\"),\n",
        "      mean(\"Salary\").alias(\"Rata_Rata_Gaji\"),\n",
        "      max(\"Salary\").alias(\"Gaji_max\"),\n",
        "      min(\"Salary\").alias(\"Gaji_min\"),\n",
        "      sum(\"Salary\").alias(\"Total_Gaji\")\n",
        "  )\n",
        "\n",
        "insight_dataset.show()"
      ],
      "metadata": {
        "colab": {
          "base_uri": "https://localhost:8080/"
        },
        "id": "Q4_2YrSnVd0r",
        "outputId": "9a7fd346-f059-4581-cc4e-373d4260cb4f"
      },
      "execution_count": null,
      "outputs": [
        {
          "output_type": "stream",
          "name": "stdout",
          "text": [
            "+-----------+---------------+--------------+--------+--------+----------+\n",
            "| Department|Jumlah_Karyawan|Rata_Rata_Gaji|Gaji_max|Gaji_min|Total_Gaji|\n",
            "+-----------+---------------+--------------+--------+--------+----------+\n",
            "|      Sales|              2|        3800.0|    4600|    3000|      7600|\n",
            "|    Finance|              2|        4000.0|    5000|    3000|      8000|\n",
            "|Necromancer|              1|        4100.0|    4100|    4100|      4100|\n",
            "+-----------+---------------+--------------+--------+--------+----------+\n",
            "\n"
          ]
        }
      ]
    },
    {
      "cell_type": "markdown",
      "source": [
        "### 3. Bekerja dengan Tipe Data Kompleks\n",
        "Spark mendukung tipe data yang kompleks seperti maps, arrays, dan structs yang memungkinkan operasi yang lebih kompleks pada dataset yang kompleks.\n",
        "\n",
        "- **Tugas 3**: Eksplorasi bagaimana mengolah tipe data kompleks dalam Spark DataFrames."
      ],
      "metadata": {
        "id": "iLI406TiZgL7"
      }
    },
    {
      "cell_type": "code",
      "source": [
        "#Tipe 1\n",
        "SalaryBonus = df.withColumn('SalaryBonus', df['Salary'] * 0.1)\n",
        "SalaryBonus.show()\n",
        "\n",
        "SalaryBonus.withColumn('TotalCompensation', SalaryBonus['Salary'] + SalaryBonus['SalaryBonus']).show()"
      ],
      "metadata": {
        "colab": {
          "base_uri": "https://localhost:8080/"
        },
        "id": "GhAnIK3bakp2",
        "outputId": "abf9c956-e9bb-40ac-d64d-afc40de189ef"
      },
      "execution_count": null,
      "outputs": [
        {
          "output_type": "stream",
          "name": "stdout",
          "text": [
            "+------------+-----------+------+-----------+\n",
            "|EmployeeName| Department|Salary|SalaryBonus|\n",
            "+------------+-----------+------+-----------+\n",
            "|        Pepe|      Sales|  3000|      300.0|\n",
            "| Loughshinny|      Sales|  4600|      460.0|\n",
            "|      Eblana|Necromancer|  4100|      410.0|\n",
            "|  Blemishine|    Finance|  3000|      300.0|\n",
            "|    Cellinia|    Finance|  5000|      500.0|\n",
            "+------------+-----------+------+-----------+\n",
            "\n",
            "+------------+-----------+------+-----------+-----------------+\n",
            "|EmployeeName| Department|Salary|SalaryBonus|TotalCompensation|\n",
            "+------------+-----------+------+-----------+-----------------+\n",
            "|        Pepe|      Sales|  3000|      300.0|           3300.0|\n",
            "| Loughshinny|      Sales|  4600|      460.0|           5060.0|\n",
            "|      Eblana|Necromancer|  4100|      410.0|           4510.0|\n",
            "|  Blemishine|    Finance|  3000|      300.0|           3300.0|\n",
            "|    Cellinia|    Finance|  5000|      500.0|           5500.0|\n",
            "+------------+-----------+------+-----------+-----------------+\n",
            "\n"
          ]
        }
      ]
    },
    {
      "cell_type": "code",
      "source": [
        "#Tipe 2\n",
        "df.withColumn('SalaryBonus', df['Salary'] * 0.1) \\\n",
        "  .withColumn('TotalCompensation', df['Salary'] + (df['Salary'] * 0.1)) \\\n",
        "  .show()"
      ],
      "metadata": {
        "colab": {
          "base_uri": "https://localhost:8080/"
        },
        "id": "My5P6RjccVkE",
        "outputId": "d7ebd8d0-f89c-478c-8f74-20d80eb4e56a"
      },
      "execution_count": null,
      "outputs": [
        {
          "output_type": "stream",
          "name": "stdout",
          "text": [
            "+------------+-----------+------+-----------+-----------------+\n",
            "|EmployeeName| Department|Salary|SalaryBonus|TotalCompensation|\n",
            "+------------+-----------+------+-----------+-----------------+\n",
            "|        Pepe|      Sales|  3000|      300.0|           3300.0|\n",
            "| Loughshinny|      Sales|  4600|      460.0|           5060.0|\n",
            "|      Eblana|Necromancer|  4100|      410.0|           4510.0|\n",
            "|  Blemishine|    Finance|  3000|      300.0|           3300.0|\n",
            "|    Cellinia|    Finance|  5000|      500.0|           5500.0|\n",
            "+------------+-----------+------+-----------+-----------------+\n",
            "\n"
          ]
        }
      ]
    },
    {
      "cell_type": "markdown",
      "source": [
        "### 4. Operasi Data Lanjutan\n",
        "Menggunakan Spark untuk operasi lanjutan seperti window functions, user-defined functions (UDFs), dan mengoptimalkan query.\n",
        "\n",
        "- **Tugas 4**: Implementasikan window function untuk menghitung running totals atau rangkings."
      ],
      "metadata": {
        "id": "vZCpk70lc6D5"
      }
    },
    {
      "cell_type": "code",
      "source": [
        "# Contoh menggunakan window functions\n",
        "from pyspark.sql.window import Window\n",
        "from pyspark.sql import functions as F\n",
        "\n",
        "windowSpec = Window.partitionBy('Department').orderBy('Salary')\n",
        "df.withColumn('Rank', F.rank().over(windowSpec)).show()"
      ],
      "metadata": {
        "colab": {
          "base_uri": "https://localhost:8080/"
        },
        "id": "Z2Xxz1QEc_Ou",
        "outputId": "1b2b93a0-a8e3-44d8-fad5-2da39c0a1c4f"
      },
      "execution_count": null,
      "outputs": [
        {
          "output_type": "stream",
          "name": "stdout",
          "text": [
            "+------------+-----------+------+----+\n",
            "|EmployeeName| Department|Salary|Rank|\n",
            "+------------+-----------+------+----+\n",
            "|  Blemishine|    Finance|  3000|   1|\n",
            "|    Cellinia|    Finance|  5000|   2|\n",
            "|      Eblana|Necromancer|  4100|   1|\n",
            "|        Pepe|      Sales|  3000|   1|\n",
            "| Loughshinny|      Sales|  4600|   2|\n",
            "+------------+-----------+------+----+\n",
            "\n"
          ]
        }
      ]
    },
    {
      "cell_type": "markdown",
      "source": [
        "### 5. Kesimpulan dan Eksplorasi Lebih Lanjut\n",
        "Review apa yang telah dipelajari tentang pemrosesan data menggunakan Spark dan eksplorasi teknik lebih lanjut untuk mengoptimalkan pemrosesan data Anda.\n",
        "<br>**Tugas 5**:\n",
        "- Unduh dataset besar dari [Kaggle](https://www.kaggle.com/) atau sumber lainnya.\n",
        "- Input data csv yang telah di download, kemudian load dan simpan data ke dalam pyspark.\n",
        "- Setelah data berhasil di load menggunakan pyspark, lakukan manipulasi data untuk memperoleh informasi yang dibutuhkan"
      ],
      "metadata": {
        "id": "WmsN0I3SK1Mi"
      }
    },
    {
      "cell_type": "code",
      "source": [
        "!pip install opendatasets"
      ],
      "metadata": {
        "colab": {
          "base_uri": "https://localhost:8080/"
        },
        "id": "ERaa_Vn3LD7M",
        "outputId": "ee938d90-b232-4b19-da9c-06056a49cd3a"
      },
      "execution_count": 5,
      "outputs": [
        {
          "output_type": "stream",
          "name": "stdout",
          "text": [
            "Collecting opendatasets\n",
            "  Downloading opendatasets-0.1.22-py3-none-any.whl.metadata (9.2 kB)\n",
            "Requirement already satisfied: tqdm in /usr/local/lib/python3.12/dist-packages (from opendatasets) (4.67.1)\n",
            "Requirement already satisfied: kaggle in /usr/local/lib/python3.12/dist-packages (from opendatasets) (1.7.4.5)\n",
            "Requirement already satisfied: click in /usr/local/lib/python3.12/dist-packages (from opendatasets) (8.2.1)\n",
            "Requirement already satisfied: bleach in /usr/local/lib/python3.12/dist-packages (from kaggle->opendatasets) (6.2.0)\n",
            "Requirement already satisfied: certifi>=14.05.14 in /usr/local/lib/python3.12/dist-packages (from kaggle->opendatasets) (2025.8.3)\n",
            "Requirement already satisfied: charset-normalizer in /usr/local/lib/python3.12/dist-packages (from kaggle->opendatasets) (3.4.3)\n",
            "Requirement already satisfied: idna in /usr/local/lib/python3.12/dist-packages (from kaggle->opendatasets) (3.10)\n",
            "Requirement already satisfied: protobuf in /usr/local/lib/python3.12/dist-packages (from kaggle->opendatasets) (5.29.5)\n",
            "Requirement already satisfied: python-dateutil>=2.5.3 in /usr/local/lib/python3.12/dist-packages (from kaggle->opendatasets) (2.9.0.post0)\n",
            "Requirement already satisfied: python-slugify in /usr/local/lib/python3.12/dist-packages (from kaggle->opendatasets) (8.0.4)\n",
            "Requirement already satisfied: requests in /usr/local/lib/python3.12/dist-packages (from kaggle->opendatasets) (2.32.4)\n",
            "Requirement already satisfied: setuptools>=21.0.0 in /usr/local/lib/python3.12/dist-packages (from kaggle->opendatasets) (75.2.0)\n",
            "Requirement already satisfied: six>=1.10 in /usr/local/lib/python3.12/dist-packages (from kaggle->opendatasets) (1.17.0)\n",
            "Requirement already satisfied: text-unidecode in /usr/local/lib/python3.12/dist-packages (from kaggle->opendatasets) (1.3)\n",
            "Requirement already satisfied: urllib3>=1.15.1 in /usr/local/lib/python3.12/dist-packages (from kaggle->opendatasets) (2.5.0)\n",
            "Requirement already satisfied: webencodings in /usr/local/lib/python3.12/dist-packages (from kaggle->opendatasets) (0.5.1)\n",
            "Downloading opendatasets-0.1.22-py3-none-any.whl (15 kB)\n",
            "Installing collected packages: opendatasets\n",
            "Successfully installed opendatasets-0.1.22\n"
          ]
        }
      ]
    },
    {
      "cell_type": "code",
      "source": [
        "import opendatasets as od\n",
        "od.download(\"https://www.kaggle.com/datasets/marcoalandadinanda/arknights-operators-dataset-global-server-may-2023\")"
      ],
      "metadata": {
        "colab": {
          "base_uri": "https://localhost:8080/"
        },
        "id": "2373KaoOPyI4",
        "outputId": "5fd9167c-7839-4a49-a84f-5b44be658cb9"
      },
      "execution_count": 6,
      "outputs": [
        {
          "output_type": "stream",
          "name": "stdout",
          "text": [
            "Please provide your Kaggle credentials to download this dataset. Learn more: http://bit.ly/kaggle-creds\n",
            "Your Kaggle username: Rino AR\n",
            "Your Kaggle Key: ··········\n",
            "Dataset URL: https://www.kaggle.com/datasets/marcoalandadinanda/arknights-operators-dataset-global-server-may-2023\n",
            "Downloading arknights-operators-dataset-global-server-may-2023.zip to ./arknights-operators-dataset-global-server-may-2023\n"
          ]
        },
        {
          "output_type": "stream",
          "name": "stderr",
          "text": [
            "100%|██████████| 48.9k/48.9k [00:00<00:00, 65.1MB/s]"
          ]
        },
        {
          "output_type": "stream",
          "name": "stdout",
          "text": [
            "\n"
          ]
        },
        {
          "output_type": "stream",
          "name": "stderr",
          "text": [
            "\n"
          ]
        }
      ]
    },
    {
      "cell_type": "code",
      "source": [
        "from pyspark.sql import SparkSession\n",
        "\n",
        "spark = SparkSession.builder.appName(\"operator_dataset\").getOrCreate()\n",
        "\n",
        "# Load dataset\n",
        "df = spark.read.csv(\n",
        "    \"/content/arknights-operators-dataset-global-server-may-2023/operators_dataset.csv\",\n",
        "    header=True,\n",
        "    inferSchema=True,\n",
        "    sep=\";\" # delimiter \";\"\n",
        ")\n",
        "\n",
        "# schema & contoh isi\n",
        "df.printSchema()\n",
        "df.show(5, truncate=False)"
      ],
      "metadata": {
        "colab": {
          "base_uri": "https://localhost:8080/"
        },
        "id": "9At3VoyERXMb",
        "outputId": "5def1e53-870d-43df-c6b9-05b772341450"
      },
      "execution_count": 7,
      "outputs": [
        {
          "output_type": "stream",
          "name": "stdout",
          "text": [
            "root\n",
            " |-- file_no: string (nullable = true)\n",
            " |-- name: string (nullable = true)\n",
            " |-- stars: string (nullable = true)\n",
            " |-- class: string (nullable = true)\n",
            " |-- branch: string (nullable = true)\n",
            " |-- position: string (nullable = true)\n",
            " |-- tags: string (nullable = true)\n",
            " |-- faction: string (nullable = true)\n",
            " |-- infected_status: string (nullable = true)\n",
            " |-- infected_diagnosis: string (nullable = true)\n",
            " |-- gender: string (nullable = true)\n",
            " |-- place_of_birth: string (nullable = true)\n",
            " |-- date_of_birth: string (nullable = true)\n",
            " |-- race: string (nullable = true)\n",
            " |-- height_cm: double (nullable = true)\n",
            " |-- endurance: string (nullable = true)\n",
            " |-- strength: string (nullable = true)\n",
            " |-- arts_adaptability: string (nullable = true)\n",
            " |-- mobility: string (nullable = true)\n",
            " |-- tactical_acumen: string (nullable = true)\n",
            " |-- combat_skill: string (nullable = true)\n",
            " |-- experience_year: string (nullable = true)\n",
            " |-- base_hp: double (nullable = true)\n",
            " |-- elite_1_hp: double (nullable = true)\n",
            " |-- elite_2_hp: string (nullable = true)\n",
            " |-- max_hp: string (nullable = true)\n",
            " |-- trust_hp: string (nullable = true)\n",
            " |-- base_atk: double (nullable = true)\n",
            " |-- elite_1_atk: double (nullable = true)\n",
            " |-- elite_2_atk: string (nullable = true)\n",
            " |-- max_atk: string (nullable = true)\n",
            " |-- trust_atk: string (nullable = true)\n",
            " |-- base_def: double (nullable = true)\n",
            " |-- elite_1_def: double (nullable = true)\n",
            " |-- elite_2_def: string (nullable = true)\n",
            " |-- max_def: string (nullable = true)\n",
            " |-- trust_def: string (nullable = true)\n",
            " |-- base_res: double (nullable = true)\n",
            " |-- elite_1_res: double (nullable = true)\n",
            " |-- elite_2_res: string (nullable = true)\n",
            " |-- max_res: string (nullable = true)\n",
            " |-- base_redeploy_s: integer (nullable = true)\n",
            " |-- elite_1_redeploy_s: integer (nullable = true)\n",
            " |-- elite_2_redeploy_s: string (nullable = true)\n",
            " |-- max_redeploy_s: string (nullable = true)\n",
            " |-- base_dp_cost: double (nullable = true)\n",
            " |-- elite_1_dp_cost: double (nullable = true)\n",
            " |-- elite_2_dp_cost: string (nullable = true)\n",
            " |-- max_dp_cost: string (nullable = true)\n",
            " |-- base_block: double (nullable = true)\n",
            " |-- elite_1_block: double (nullable = true)\n",
            " |-- elite_2_block: string (nullable = true)\n",
            " |-- max_block: string (nullable = true)\n",
            " |-- base_interval_s: double (nullable = true)\n",
            " |-- elite_1_interval_s: double (nullable = true)\n",
            " |-- elite_2_interval_s: string (nullable = true)\n",
            " |-- max_interval_s: string (nullable = true)\n",
            " |-- availability: string (nullable = true)\n",
            " |-- trait: string (nullable = true)\n",
            " |-- phrase: string (nullable = true)\n",
            " |-- description: string (nullable = true)\n",
            " |-- infection_description: string (nullable = true)\n",
            " |-- icon_image_link: string (nullable = true)\n",
            " |-- full_image_link: string (nullable = true)\n",
            "\n",
            "+-------+--------------+------+----------+-----------+--------+--------------+----------------+---------------+------------------+------+--------------+-------------+-----+---------+---------+--------+-----------------+---------+---------------+------------+---------------+-------+----------+----------+------+--------+--------+-----------+-----------+-------+---------+--------+-----------+-----------+-------+---------+--------+-----------+-----------+-------+---------------+------------------+------------------+--------------+------------+---------------+---------------+-----------+----------+-------------+-------------+---------+---------------+------------------+------------------+--------------+------------------+-----------------------------------------------------------------------------------------------+----------------------------------------+-----------------------------------------------------------------------------------------------------------------------------+--------------------------------------------+------------------------------------------------------------------------------------------------------------------------------------+--------------------------------------------------------------------------------------------------------+\n",
            "|file_no|name          |stars |class     |branch     |position|tags          |faction         |infected_status|infected_diagnosis|gender|place_of_birth|date_of_birth|race |height_cm|endurance|strength|arts_adaptability|mobility |tactical_acumen|combat_skill|experience_year|base_hp|elite_1_hp|elite_2_hp|max_hp|trust_hp|base_atk|elite_1_atk|elite_2_atk|max_atk|trust_atk|base_def|elite_1_def|elite_2_def|max_def|trust_def|base_res|elite_1_res|elite_2_res|max_res|base_redeploy_s|elite_1_redeploy_s|elite_2_redeploy_s|max_redeploy_s|base_dp_cost|elite_1_dp_cost|elite_2_dp_cost|max_dp_cost|base_block|elite_1_block|elite_2_block|max_block|base_interval_s|elite_1_interval_s|elite_2_interval_s|max_interval_s|availability      |trait                                                                                          |phrase                                  |description                                                                                                                  |infection_description                       |icon_image_link                                                                                                                     |full_image_link                                                                                         |\n",
            "+-------+--------------+------+----------+-----------+--------+--------------+----------------+---------------+------------------+------+--------------+-------------+-----+---------+---------+--------+-----------------+---------+---------------+------------+---------------+-------+----------+----------+------+--------+--------+-----------+-----------+-------+---------+--------+-----------+-----------+-------+---------+--------+-----------+-----------+-------+---------------+------------------+------------------+--------------+------------+---------------+---------------+-----------+----------+-------------+-------------+---------+---------------+------------------+------------------+--------------+------------------+-----------------------------------------------------------------------------------------------+----------------------------------------+-----------------------------------------------------------------------------------------------------------------------------+--------------------------------------------+------------------------------------------------------------------------------------------------------------------------------------+--------------------------------------------------------------------------------------------------------+\n",
            "|RCX3   |Castle-3      |1-star|Guard     |Dreadnought|Melee   |Support, Robot|Rhodes Island   |–              |–                 |Male  |–             |–            |–    |167.0    |Excellent|–       |–                |Normal   |–              |–           |–              |928.0  |1191.0    |–         |–     |2000.00 |247.0   |353.0      |–          |–      |600.00   |63.0    |90.0       |–          |–      |–        |0.0     |0.0        |–          |–      |200            |200               |–                 |–             |3.0         |3.0            |–              |–          |1.0       |1.0          |–            |–        |1.5            |1.5               |–                 |–             |Recruitment       |Blocks 1 enemy and ignores the Deployment Limit, but has a long Redeployment Time              |He knows that he's a robot.             |Castle-3, Guard robot of Rhodes Island, is assigned by Engineer Closure to carry out combat duties in the field.             |–                                           |https://static.wikia.nocookie.net/mrfz/images/7/7c/Castle-3_icon.png/revision/latest/scale-to-width-down/120?cb=20190620082524      | https://static.wikia.nocookie.net/mrfz/images/d/d4/Castle-3.png/revision/latest?cb=20190620082525      |\n",
            "|KZ15   |Justice Knight|1-star|Sniper    |Marksman   |Ranged  |Support, Robot|Pinus Sylvestris|–              |–                 |Female|–             |–            |–    |160.0    |Normal   |–       |–                |Normal   |–              |–           |–              |396.0  |495.0     |–         |–     |1000.00 |137.0   |172.0      |–          |–      |450.00   |32.0    |41.0       |–          |–      |–        |0.0     |0.0        |–          |–      |200            |200               |–                 |–             |3.0         |3.0            |–              |–          |1.0       |1.0          |–            |–        |1.0            |1.0               |–                 |–             |Recruitment       |Attacks aerial enemies first and ignores the Deployment Limit, but has a long Redeployment Time|She knows that she's a robot.           |\"\"\"Justice Knight\"\" of the Pinus Sylvestris Knightclub, tasked at Rhodes Island with cover fire support.\"                    |–                                           |https://static.wikia.nocookie.net/mrfz/images/d/d0/Justice_Knight_icon.png/revision/latest/scale-to-width-down/120?cb=20211101070112| https://static.wikia.nocookie.net/mrfz/images/b/b5/Justice_Knight.png/revision/latest?cb=20211101094400|\n",
            "|RCX2   |Lancet-2      |1-star|Medic     |Medic      |Ranged  |Healing, Robot|Rhodes Island   |–              |–                 |Female|–             |–            |–    |149.0    |Excellent|–       |–                |Normal   |–              |–           |–              |261.0  |435.0     |–         |–     |1000.00 |42.0    |70.0       |–          |–      |400.00   |16.0    |27.0       |–          |–      |–        |0.0     |0.0        |–          |–      |200            |200               |–                 |–             |3.0         |3.0            |–              |–          |1.0       |1.0          |–            |–        |2.85           |2.85              |–                 |–             |Recruitment, TR-10|Restores the HP of allies and ignores the Deployment Limit, but has a long Redeployment Time   |She knows that she's a robot.           |Lancet-2, Medic robot of Rhodes Island, is assigned by Engineer Closure to carry out medical assistance in the field.        |–                                           |https://static.wikia.nocookie.net/mrfz/images/4/4a/Lancet-2_icon.png/revision/latest/scale-to-width-down/120?cb=20190620082933      | https://static.wikia.nocookie.net/mrfz/images/0/01/Lancet-2.png/revision/latest?cb=20190627031806      |\n",
            "|RCX4   |THRM-EX       |1-star|Specialist|Executor   |Melee   |Nuker, Robot  |Rhodes Island   |–              |–                 |Male  |–             |–            |–    |160.0    |Flawed   |–       |–                |Average  |–              |–           |–              |1154.0 |1443.0    |–         |–     |–       |208.0   |260.0      |–          |–      |900.00   |354.0   |443.0      |–          |–      |–        |50.0    |50.0       |–          |–      |200            |200               |–                 |–             |3.0         |3.0            |–              |–          |0.0       |0.0          |–            |–        |0.93           |0.93              |–                 |–             |Recruitment, 7-2  |Does not attack and ignores the Deployment Limit, but has a long Redeployment Time             |He knows that he's a robot.             |Thermal-EX (a.k.a. THRM-EX), Specialist robot of Rhodes Island, is assigned by Engineer Closure to carry out combat missions.|–                                           |https://static.wikia.nocookie.net/mrfz/images/1/10/THRM-EX_icon.png/revision/latest/scale-to-width-down/120?cb=20200501134353       | https://static.wikia.nocookie.net/mrfz/images/c/cd/THRM-EX.png/revision/latest?cb=20200430133113       |\n",
            "|R303   |12F           |2-star|Caster    |Splash     |Ranged  |Starter       |Rhodes Island   |No             |Medical Report    |Male  |–             |March 3rd    |Savra|181.0    |Normal   |Normal  |Standard         |Excellent|Normal         |Normal      |5              |1461.0 |1461.0    |–         |–     |–       |302.0   |432.0      |–          |–      |500.00   |31.0    |50.0       |–          |–      |–        |10.0    |10.0       |–          |–      |70             |70                |–                 |–             |24.0        |24.0           |–              |–          |1.0       |1.0          |–            |–        |2.9            |2.9               |–                 |–             |Recruitment, TR-6 |Deals AOE Arts Damage                                                                          |At least he can help out with something.|12F, Caster Operator of Rhodes Island, will provide tactical aid for the squad with Originium Arts.                          |Non-infected as confirmed by medical report.|https://static.wikia.nocookie.net/mrfz/images/f/ff/12F_icon.png/revision/latest/scale-to-width-down/120?cb=20190620082222           | https://static.wikia.nocookie.net/mrfz/images/c/cc/12F.png/revision/latest?cb=20190620082223           |\n",
            "+-------+--------------+------+----------+-----------+--------+--------------+----------------+---------------+------------------+------+--------------+-------------+-----+---------+---------+--------+-----------------+---------+---------------+------------+---------------+-------+----------+----------+------+--------+--------+-----------+-----------+-------+---------+--------+-----------+-----------+-------+---------+--------+-----------+-----------+-------+---------------+------------------+------------------+--------------+------------+---------------+---------------+-----------+----------+-------------+-------------+---------+---------------+------------------+------------------+--------------+------------------+-----------------------------------------------------------------------------------------------+----------------------------------------+-----------------------------------------------------------------------------------------------------------------------------+--------------------------------------------+------------------------------------------------------------------------------------------------------------------------------------+--------------------------------------------------------------------------------------------------------+\n",
            "only showing top 5 rows\n",
            "\n"
          ]
        }
      ]
    },
    {
      "cell_type": "code",
      "source": [
        "df.describe()"
      ],
      "metadata": {
        "colab": {
          "base_uri": "https://localhost:8080/"
        },
        "id": "lu2tGp5sXuu2",
        "outputId": "61bdea2f-8b63-44e8-a76d-325c83405dda"
      },
      "execution_count": null,
      "outputs": [
        {
          "output_type": "execute_result",
          "data": {
            "text/plain": [
              "DataFrame[summary: string, file_no: string, name: string, stars: string, class: string, branch: string, position: string, tags: string, faction: string, infected_status: string, infected_diagnosis: string, gender: string, place_of_birth: string, date_of_birth: string, race: string, height_cm: string, endurance: string, strength: string, arts_adaptability: string, mobility: string, tactical_acumen: string, combat_skill: string, experience_year: string, base_hp: string, elite_1_hp: string, elite_2_hp: string, max_hp: string, trust_hp: string, base_atk: string, elite_1_atk: string, elite_2_atk: string, max_atk: string, trust_atk: string, base_def: string, elite_1_def: string, elite_2_def: string, max_def: string, trust_def: string, base_res: string, elite_1_res: string, elite_2_res: string, max_res: string, base_redeploy_s: string, elite_1_redeploy_s: string, elite_2_redeploy_s: string, max_redeploy_s: string, base_dp_cost: string, elite_1_dp_cost: string, elite_2_dp_cost: string, max_dp_cost: string, base_block: string, elite_1_block: string, elite_2_block: string, max_block: string, base_interval_s: string, elite_1_interval_s: string, elite_2_interval_s: string, max_interval_s: string, availability: string, trait: string, phrase: string, description: string, infection_description: string, icon_image_link: string, full_image_link: string]"
            ]
          },
          "metadata": {},
          "execution_count": 8
        }
      ]
    },
    {
      "cell_type": "code",
      "source": [
        "df.describe().show(5, truncate=False)"
      ],
      "metadata": {
        "colab": {
          "base_uri": "https://localhost:8080/"
        },
        "id": "I8v8zO_TX1FL",
        "outputId": "84dadd81-8565-44ec-9930-203907ea6561"
      },
      "execution_count": null,
      "outputs": [
        {
          "output_type": "stream",
          "name": "stdout",
          "text": [
            "+-------+-------+-----------+------+--------+---------+--------+----------------------+---------------+---------------+------------------+----------+--------------+-------------+-----+------------------+---------+---------+-----------------+------------------+---------------+------------+-----------------+-----------------+------------------+-----------------+------------------+------------------+-----------------+------------------+------------------+------------------+-----------------+------------------+------------------+------------------+------------------+------------------+-----------------+-----------------+------------------+------------------+------------------+------------------+------------------+------------------+------------------+------------------+------------------+-----------------+------------------+------------------+------------------+------------------+------------------+------------------+------------------+------------------+--------------------------------------------+-------------------------------------------------------------------------+----------------------------------------------------------------+-------------------------------------------------------------------------------------------------------------------------------------------+------------------------------------------+----------------------------------------------------------------------------------------------------------------------------+--------------------------------------------------------------------------------------------------+\n",
            "|summary|file_no|name       |stars |class   |branch   |position|tags                  |faction        |infected_status|infected_diagnosis|gender    |place_of_birth|date_of_birth|race |height_cm         |endurance|strength |arts_adaptability|mobility          |tactical_acumen|combat_skill|experience_year  |base_hp          |elite_1_hp        |elite_2_hp       |max_hp            |trust_hp          |base_atk         |elite_1_atk       |elite_2_atk       |max_atk           |trust_atk        |base_def          |elite_1_def       |elite_2_def       |max_def           |trust_def         |base_res         |elite_1_res      |elite_2_res       |max_res           |base_redeploy_s   |elite_1_redeploy_s|elite_2_redeploy_s|max_redeploy_s    |base_dp_cost      |elite_1_dp_cost   |elite_2_dp_cost   |max_dp_cost      |base_block        |elite_1_block     |elite_2_block     |max_block         |base_interval_s   |elite_1_interval_s|elite_2_interval_s|max_interval_s    |availability                                |trait                                                                    |phrase                                                          |description                                                                                                                                |infection_description                     |icon_image_link                                                                                                             |full_image_link                                                                                   |\n",
            "+-------+-------+-----------+------+--------+---------+--------+----------------------+---------------+---------------+------------------+----------+--------------+-------------+-----+------------------+---------+---------+-----------------+------------------+---------------+------------+-----------------+-----------------+------------------+-----------------+------------------+------------------+-----------------+------------------+------------------+------------------+-----------------+------------------+------------------+------------------+------------------+------------------+-----------------+-----------------+------------------+------------------+------------------+------------------+------------------+------------------+------------------+------------------+------------------+-----------------+------------------+------------------+------------------+------------------+------------------+------------------+------------------+------------------+--------------------------------------------+-------------------------------------------------------------------------+----------------------------------------------------------------+-------------------------------------------------------------------------------------------------------------------------------------------+------------------------------------------+----------------------------------------------------------------------------------------------------------------------------+--------------------------------------------------------------------------------------------------+\n",
            "|count  |235    |235        |235   |235     |235      |235     |235                   |235            |235            |235               |235       |235           |235          |235  |235               |235      |235      |235              |235               |235            |235         |235              |235              |235               |235              |235               |235               |235              |235               |235               |235               |235              |235               |235               |235               |235               |235               |235              |235              |235               |235               |235               |235               |235               |235               |235               |235               |235               |235              |235               |235               |235               |235               |235               |235               |235               |235               |235                                         |235                                                                      |235                                                             |235                                                                                                                                        |235                                       |235                                                                                                                         |235                                                                                               |\n",
            "|mean   |NULL   |12.0       |NULL  |NULL    |NULL     |NULL    |NULL                  |NULL           |NULL           |NULL              |NULL      |NULL          |NULL         |NULL |162.94468085106382|NULL     |NULL     |NULL             |NULL              |NULL           |NULL        |4.296666666666667|904.5361702127659|1232.2212765957447|1598.146017699115|2085.4306220095696|2727.377049180328 |258.1914893617021|372.64255319148936|496.62831858407077|615.5980861244019 |621.7085427135678|117.17872340425532|169.94893617021276|226.3849557522124 |278.95215311004785|441.59420289855075|4.148936170212766|4.170212765957447|5.3097345132743365|6.6028708133971294|71.63829787234043 |71.63829787234043 |69.40265486725664 |69.35406698564593 |16.046808510638296|16.046808510638296|18.420353982300885|19.0622009569378 |1.3617021276595744|1.3617021276595744|1.415929203539823 |1.430622009569378 |1.6845957446808526|1.6845957446808526|1.6896017699115058|1.6949760765550248|NULL                                        |NULL                                                                     |1.01010111101E14                                                |NULL                                                                                                                                       |NULL                                      |NULL                                                                                                                        |NULL                                                                                              |\n",
            "|stddev |NULL   |NULL       |NULL  |NULL    |NULL     |NULL    |NULL                  |NULL           |NULL           |NULL              |NULL      |NULL          |NULL         |NULL |11.925387852472417|NULL     |NULL     |NULL             |NULL              |NULL           |NULL        |4.828987091626586|302.6160330017471|396.2134908286222 |527.9557901584645|742.743204290233  |1022.9628563464466|92.71485518353542|124.11922126516285|152.6915376940795 |187.54871468750423|212.1394040362028|68.21423309437655 |97.37322213981143 |127.32924092637533|165.9370756771498 |159.5270877644461 |6.177498191514489|6.206280073256411|7.188978782080494 |9.037325984470003 |19.520343904506632|19.520343904506632|9.913931478722175 |10.309582697633182|6.354379708537188 |6.354379708537188 |6.30804296881068  |6.661525360793811|0.641363795151002 |0.641363795151002 |0.7083710730879735|0.7443505789081798|0.7291361139261912|0.7291361139261912|0.7283987435442578|0.7289884485221719|NULL                                        |NULL                                                                     |NULL                                                            |NULL                                                                                                                                       |NULL                                      |NULL                                                                                                                        |NULL                                                                                              |\n",
            "|min    |A41    |12F        |1-star|Caster  |Abjurer  |Melee   |AOE, Nuker            |Abyssal Hunters|No             |Clinical Diagnosis|Conviction|Bolívar       |April 15th   |Aegir|131.0             |Excellent|Excellent|Excellent        |Average           |Excellent      |Excellent   |0.5              |261.0            |435.0             |1007             |1050              |1000.00           |42.0             |70.0              |1019              |1007              |1000.00          |16.0              |27.0              |100               |100               |150.00            |0.0              |0.0              |0                 |0                 |18                |18                |18                |18                |3.0               |3.0               |10                |10               |0.0               |0.0               |0                 |0                 |0.78              |0.78              |0.78              |0.78              |A Walk in the Dust (Song of Dust)           |Attacks aerial enemies first                                             |\"\"\"Look how beautiful it is\"\", he said to you while looking up.\"|\"\"\"Ashlock\"\" Knight Greynuty stands ready to face any challenge.\"                                                                          |Confirmed Infected by medical examination.|https://static.wikia.nocookie.net/mrfz/images/0/00/Bibeak_icon.png/revision/latest/scale-to-width-down/120?cb=20200318201702| https://static.wikia.nocookie.net/mrfz/images/0/00/Istina.png/revision/latest?cb=20190817203456  |\n",
            "|max    |YD11   |Zima (Зима)|6-star|Vanguard|Wandering|Ranged  |Survival, Defense, DPS|Yan            |–              |–                 |Male      |–             |–            |–    |195.0             |Standard |–        |–                |Standard/Excellent|–              |–           |–                |1882.0           |2614.0            |–                |–                 |–                 |548.0            |784.0             |–                 |–                 |–                |354.0             |443.0             |–                 |–                 |–                 |50.0             |50.0             |–                 |–                 |200               |200               |–                 |–                 |32.0              |32.0              |–                 |–                |3.0               |3.0               |–                 |–                 |3.5               |3.5               |–                 |–                 |[CN] Stultifera Navis (event mission reward)|When not blocking enemies, prioritizes dealing ranged AoE Physical damage|Your fortune for the day is...                                  |Zima, Vanguard Operator of Rhodes Island, will give the squad a tactical advantage with her physical strength at the start of every battle.|–                                         |https://static.wikia.nocookie.net/mrfz/images/f/ff/12F_icon.png/revision/latest/scale-to-width-down/120?cb=20190620082222   | https://static.wikia.nocookie.net/mrfz/images/f/fe/Midnight.png/revision/latest?cb=20190627032123|\n",
            "+-------+-------+-----------+------+--------+---------+--------+----------------------+---------------+---------------+------------------+----------+--------------+-------------+-----+------------------+---------+---------+-----------------+------------------+---------------+------------+-----------------+-----------------+------------------+-----------------+------------------+------------------+-----------------+------------------+------------------+------------------+-----------------+------------------+------------------+------------------+------------------+------------------+-----------------+-----------------+------------------+------------------+------------------+------------------+------------------+------------------+------------------+------------------+------------------+-----------------+------------------+------------------+------------------+------------------+------------------+------------------+------------------+------------------+--------------------------------------------+-------------------------------------------------------------------------+----------------------------------------------------------------+-------------------------------------------------------------------------------------------------------------------------------------------+------------------------------------------+----------------------------------------------------------------------------------------------------------------------------+--------------------------------------------------------------------------------------------------+\n",
            "\n"
          ]
        }
      ]
    },
    {
      "cell_type": "code",
      "source": [
        "df.select('name', 'class','branch', 'faction', 'gender').show(5, truncate=False)"
      ],
      "metadata": {
        "colab": {
          "base_uri": "https://localhost:8080/"
        },
        "id": "l2a11tCOYa34",
        "outputId": "9456d4d0-84b5-49e4-b273-fd3184195cd0"
      },
      "execution_count": null,
      "outputs": [
        {
          "output_type": "stream",
          "name": "stdout",
          "text": [
            "+--------------+----------+-----------+----------------+------+\n",
            "|name          |class     |branch     |faction         |gender|\n",
            "+--------------+----------+-----------+----------------+------+\n",
            "|Castle-3      |Guard     |Dreadnought|Rhodes Island   |Male  |\n",
            "|Justice Knight|Sniper    |Marksman   |Pinus Sylvestris|Female|\n",
            "|Lancet-2      |Medic     |Medic      |Rhodes Island   |Female|\n",
            "|THRM-EX       |Specialist|Executor   |Rhodes Island   |Male  |\n",
            "|12F           |Caster    |Splash     |Rhodes Island   |Male  |\n",
            "+--------------+----------+-----------+----------------+------+\n",
            "only showing top 5 rows\n",
            "\n"
          ]
        }
      ]
    },
    {
      "cell_type": "code",
      "source": [
        "df.filter(df[\"stars\"] == '6-star').show(10, truncate=False)\n"
      ],
      "metadata": {
        "colab": {
          "base_uri": "https://localhost:8080/"
        },
        "id": "wxavbcGjb7hN",
        "outputId": "03d99e93-8c82-4b41-e355-065e73c1e9dc"
      },
      "execution_count": null,
      "outputs": [
        {
          "output_type": "stream",
          "name": "stdout",
          "text": [
            "+-------+----------+------+----------+------------+--------+---------------------+-----------------------------+---------------+-------------------+------+--------------+-------------+--------+---------+-----------+---------+-----------------+---------+---------------+------------+---------------+-------+----------+----------+------+--------+--------+-----------+-----------+-------+---------+--------+-----------+-----------+-------+---------+--------+-----------+-----------+-------+---------------+------------------+------------------+--------------+------------+---------------+---------------+-----------+----------+-------------+-------------+---------+---------------+------------------+------------------+--------------+-----------------------------------+-------------------------------------------------------------------------------------------------------------------+-----------------------------------------------------------------------------------------------------------+------------------------------------------------------------------------------------------------------------------------------------+-------------------------------------------------------------------------------------------------------------+--------------------------------------------------------------------------------------------------------------------------------+----------------------------------------------------------------------------------------------------+\n",
            "|file_no|name      |stars |class     |branch      |position|tags                 |faction                      |infected_status|infected_diagnosis |gender|place_of_birth|date_of_birth|race    |height_cm|endurance  |strength |arts_adaptability|mobility |tactical_acumen|combat_skill|experience_year|base_hp|elite_1_hp|elite_2_hp|max_hp|trust_hp|base_atk|elite_1_atk|elite_2_atk|max_atk|trust_atk|base_def|elite_1_def|elite_2_def|max_def|trust_def|base_res|elite_1_res|elite_2_res|max_res|base_redeploy_s|elite_1_redeploy_s|elite_2_redeploy_s|max_redeploy_s|base_dp_cost|elite_1_dp_cost|elite_2_dp_cost|max_dp_cost|base_block|elite_1_block|elite_2_block|max_block|base_interval_s|elite_1_interval_s|elite_2_interval_s|max_interval_s|availability                       |trait                                                                                                              |phrase                                                                                                     |description                                                                                                                         |infection_description                                                                                        |icon_image_link                                                                                                                 |full_image_link                                                                                     |\n",
            "+-------+----------+------+----------+------------+--------+---------------------+-----------------------------+---------------+-------------------+------+--------------+-------------+--------+---------+-----------+---------+-----------------+---------+---------------+------------+---------------+-------+----------+----------+------+--------+--------+-----------+-----------+-------+---------+--------+-----------+-----------+-------+---------+--------+-----------+-----------+-------+---------------+------------------+------------------+--------------+------------+---------------+---------------+-----------+----------+-------------+-------------+---------+---------------+------------------+------------------+--------------+-----------------------------------+-------------------------------------------------------------------------------------------------------------------+-----------------------------------------------------------------------------------------------------------+------------------------------------------------------------------------------------------------------------------------------------+-------------------------------------------------------------------------------------------------------------+--------------------------------------------------------------------------------------------------------------------------------+----------------------------------------------------------------------------------------------------+\n",
            "|LM20   |Aak       |6-star|Specialist|Geek        |Ranged  |Support, DPS         |Lee's Detective Agency       |No             |Medical Examination|Male  |Lungmen       |March 25th   |Feline  |161.0    |Normal     |Normal   |Standard         |Standard |Standard       |Standard    |–              |865.0  |1236.0    |1627      |2034  |3000.00 |247.0   |413.0      |583        |703    |500.00   |58.0    |90.0       |121        |152    |–        |10.0    |10.0       |10         |10     |70             |70                |70                |70            |11.0        |11.0           |13             |13         |1.0       |1.0          |1            |1        |1.3            |1.3               |1.3               |1.3           |Headhunting, Recruitment           |Continually loses HP over time                                                                                     |You have the right to operate outside his support range.                                                   |Aak, Specialist Operator of Rhodes Island, will support other Operators from the rear.                                              |Confirmed uninfected by medical examination.                                                                 |https://static.wikia.nocookie.net/mrfz/images/6/67/Aak_icon.png/revision/latest/scale-to-width-down/120?cb=20200201060352       | https://static.wikia.nocookie.net/mrfz/images/b/b3/Aak.png/revision/latest?cb=20200201060156       |\n",
            "|SR02   |Angelina  |6-star|Supporter |Decel Binder|Ranged  |Slow, DPS, Support   |Siracusa                     |Yes            |Medical Examination|Female|Siracusa      |May 14th     |Vulpo   |159.0    |Standard   |Normal   |Excellent        |Excellent|Normal         |Normal      |–              |629.0  |863.0     |1108      |1385  |–       |228.0   |336.0      |449        |542    |750.00   |53.0    |77.0       |100        |120    |–        |10.0    |15.0       |20         |25     |70             |70                |70                |70            |14.0        |14.0           |16             |16         |1.0       |1.0          |1            |1        |1.9            |1.9               |1.9               |1.9           |Headhunting                        |Deals Arts Damage and Slows the target for a short time                                                            |Green, but full of potential.                                                                              |Angelina, Supporter Operator and Messenger of Rhodes Island, would like to provide help with her amazing Originium Arts.            |Crystals have appeared on the body. Infection confirmed by medical examination.                              |https://static.wikia.nocookie.net/mrfz/images/8/84/Angelina_icon.png/revision/latest/scale-to-width-down/120?cb=20190620082322  | https://static.wikia.nocookie.net/mrfz/images/9/9b/Angelina.png/revision/latest?cb=20190620082323  |\n",
            "|LT08   |Archetto  |6-star|Sniper    |Marksman    |Ranged  |DPS                  |Laterano                     |No             |Medical Test       |Female|Laterano      |November 16th|Liberi  |152.0    |Standard   |Standard |Standard         |Excellent|Standard       |Excellent   |2              |725.0  |1036.0    |1364      |1705  |–       |178.0   |298.0      |427        |528    |900.00   |61.0    |102.0      |146        |172    |–        |0.0     |0.0        |0          |0      |70             |70                |70                |70            |12.0        |12.0           |14             |14         |1.0       |1.0          |1            |1        |1.0            |1.0               |1                 |1             |Headhunting                        |Attacks aerial enemies first                                                                                       |\"If she pulls you into \"\"doing your part\"\" for the Monastery, just do what you can.\"                       |Cleric of Landen Monastery Archetto, the power to rebuild faith stronger than faith itself.                                         |Medical tests have confirmed that no infection is present.                                                   |https://static.wikia.nocookie.net/mrfz/images/8/8e/Archetto_icon.png/revision/latest/scale-to-width-down/120?cb=20210105100328  | https://static.wikia.nocookie.net/mrfz/images/d/d3/Archetto.png/revision/latest?cb=20210105104322  |\n",
            "|RS01   |Ash       |6-star|Sniper    |Marksman    |Ranged  |DPS                  |Team Rainbow                 |No             |Medical Test       |Female|–             |December 24th|–       |170.0    |Normal     |Normal   |–                |Standard |Excellent      |Excellent   |–              |718.0  |1026.0    |1351      |1689  |–       |181.0   |302.0      |432        |534    |900.00   |60.0    |100.0      |143        |169    |–        |0.0     |0.0        |0          |0      |70             |70                |70                |70            |12.0        |12.0           |14             |14         |1.0       |1.0          |1            |1        |1.0            |1.0               |1                 |1             |Headhunting (Collaboration limited)|Attacks aerial enemies first                                                                                       |Acts an individual, but thinks for the entire squad.                                                       |Ash, a member of Team Rainbow, always has grenades loaded and ready.                                                                |Medical tests have confirmed that no infection is present.                                                   |https://static.wikia.nocookie.net/mrfz/images/6/6f/Ash_icon.png/revision/latest/scale-to-width-down/120?cb=20210309101552       | https://static.wikia.nocookie.net/mrfz/images/b/b1/Ash.png/revision/latest?cb=20210309103020       |\n",
            "|RV02   |Bagpipe   |6-star|Vanguard  |Charger     |Melee   |DP-Recovery, DPS     |Victoria                     |No             |Medical Examination|Female|Victoria      |July 17th    |Vouivre |167.0    |Excellent  |Excellent|Standard         |Standard |Standard       |Excellent   |5              |975.0  |1355.0    |1738      |2484  |–       |250.0   |369.0      |492        |586    |850.00   |173.0   |241.0      |313        |382    |–        |0.0     |0.0        |0          |0      |70             |70                |70                |70            |11.0        |11.0           |13             |13         |1.0       |1.0          |1            |1        |1.0            |1.0               |1                 |1             |Headhunting, [CN] Recruitment      |Obtain 1 DP after this unit defeats an enemy; Refunds the original DP Cost when retreated                          |Meticulous when it comes to fighting and farming, utterly clueless when it comes to electronics and trends.|Bagpipe, former Victorian soldier, has come in search of the truth.                                                                 |Confirmed uninfected by medical examination.                                                                 |https://static.wikia.nocookie.net/mrfz/images/e/e9/Bagpipe_icon.png/revision/latest/scale-to-width-down/120?cb=20200318201601   | https://static.wikia.nocookie.net/mrfz/images/c/cc/Bagpipe.png/revision/latest?cb=20200318201542   |\n",
            "|RE41   |Blaze     |6-star|Guard     |Centurion   |Melee   |DPS, Survival        |Rhodes Island Elite Operators|Yes            |Medical Examination|Female|Victoria      |–            |Feline  |172.0    |Excellent  |Excellent|Excellent        |Excellent|Standard       |Excellent   |7              |1286.0 |1649.0    |2115      |2821  |–       |308.0   |429.0      |581        |765    |600.00   |156.0   |224.0      |303        |370    |450.00   |0.0     |0.0        |0          |0      |70             |70                |70                |70            |20.0        |20.0           |22             |24         |2.0       |2.0          |2            |3        |1.2            |1.2               |1.2               |1.2           |Headhunting, Recruitment           |Attacks all blocked enemies                                                                                        |Please, it's okay to dial it down a bit...                                                                 |Blaze, Rhodes Island's most fired-up Operator, will spread her enthusiasm like a wildfire.                                          |Originium crystals are distributed across the surface of her body, confirmed Infected by medical examination.|https://static.wikia.nocookie.net/mrfz/images/6/6a/Blaze_icon.png/revision/latest/scale-to-width-down/120?cb=20200201060352     | https://static.wikia.nocookie.net/mrfz/images/b/bd/Blaze.png/revision/latest?cb=20200201060229     |\n",
            "|KZ09   |Blemishine|6-star|Defender  |Guardian    |Melee   |Defense, Healing, DPS|Kazimierz                    |No             |Medical Test       |Female|Kazimierz     |July 15th    |Kuranta |165.0    |Standard   |Standard |Excellent        |Excellent|Standard       |Standard    |0.5            |1346.0 |1820.0    |2334      |3242  |–       |207.0   |297.0      |402        |491    |900.00   |242.0   |357.0      |476        |581    |200.00   |10.0    |10.0       |10         |10     |70             |70                |70                |70            |18.0        |18.0           |20             |22         |2.0       |2.0          |3            |3        |1.2            |1.2               |1.2               |1.2           |Headhunting                        |Can heal allies by using the skill                                                                                 |If unable to find her, please ask the operators of the Engineering Department.                             |Blemishine, Kazimierz knight, is the light of glory about to bloom.                                                                 |Medical tests have confirmed that no infection is present.                                                   |https://static.wikia.nocookie.net/mrfz/images/2/23/Blemishine_icon.png/revision/latest/scale-to-width-down/120?cb=20201015121616| https://static.wikia.nocookie.net/mrfz/images/5/54/Blemishine.png/revision/latest?cb=20201015095022|\n",
            "|LN04   |Carnelian |6-star|Caster    |Phalanx     |Ranged  |AoE, Defense         |Leithania                    |No             |Medical Test       |Female|Sargon        |January 17th |Caprinae|173.0    |Excellent  |Normal   |Excellent        |Normal   |Standard       |Standard    |6              |1104.0 |1380.0    |1726      |2106  |–       |435.0   |581.0      |727        |846    |800.00   |146.0   |170.0      |198        |228    |300.00   |15.0    |15.0       |15         |15     |70             |70                |70                |70            |22.0        |22.0           |24             |24         |1.0       |1.0          |1            |1        |2.0            |2.0               |2                 |2             |Headhunting                        |Normally does not attack, but has greatly increased DEF and RES; When skill is active, attacks deal AoE Arts Damage|If she laughs while staring at the enemy, most likely she's just considering how to tear them to ribbons.  |Caster Operator Carnelian, mature and calm, yet partial to some havoc now and then.                                                 |Medical tests have confirmed that no infection is present.                                                   |https://static.wikia.nocookie.net/mrfz/images/3/39/Carnelian_icon.png/revision/latest/scale-to-width-down/120?cb=20210601062228 | https://static.wikia.nocookie.net/mrfz/images/2/25/Carnelian.png/revision/latest?cb=20210601063906 |\n",
            "|R155   |Ceobe     |6-star|Caster    |Core        |Ranged  |DPS, Crowd-Control   |Rhodes Island                |Yes            |Medical Examination|Female|Bolívar       |March 3rd    |Perro   |153.0    |Outstanding|Standard |Excellent        |Excellent|Normal         |Standard    |3              |657.0  |939.0     |1220      |1565  |–       |302.0   |420.0      |553        |667    |900.00   |48.0    |82.0       |114        |128    |–        |10.0    |10.0       |15         |20     |70             |70                |70                |70            |19.0        |19.0           |21             |21         |1.0       |1.0          |1            |1        |1.6            |1.6               |1.6               |1.6           |Headhunting, [CN] Recruitment      |Deals Arts Damage                                                                                                  |Knocks 'em down one after another, fast and accurate.                                                      |Ceobe is always ready to go after the bad guys.                                                                                     |Originium crystals are distributed across the surface of her body, confirmed Infected by medical examination.|https://static.wikia.nocookie.net/mrfz/images/a/a5/Ceobe_icon.png/revision/latest/scale-to-width-down/120?cb=20200225104622     | https://static.wikia.nocookie.net/mrfz/images/4/42/Ceobe.png/revision/latest?cb=20200225104529     |\n",
            "|LM04   |Ch'en     |6-star|Guard     |Swordmaster |Melee   |Nuker, DPS           |Lungmen Guard Department     |–              |–                  |Female|Lungmen       |July 7th     |Lung    |168.0    |Excellent  |Excellent|Standard         |Standard |Excellent      |Outstanding |4              |1229.0 |1684.0    |2188      |2880  |–       |249.0   |361.0      |469        |610    |500.00   |154.0   |221.0      |288        |352    |500.00   |0.0     |0.0        |0          |0      |70             |70                |70                |70            |19.0        |19.0           |21             |23         |2.0       |2.0          |2            |2        |1.3            |1.3               |1.3               |1.3           |Headhunting, Recruitment           |Normal attacks deal damage twice                                                                                   |She's terrifying when she's mad, but you don't want to mess with her even when she's not.                  |Ch'en, Special Inspection Unit Chief, L.G.D., is cooperating with Rhodes Island to fulfill the obligations outlined in her contract.|–                                                                                                            |https://static.wikia.nocookie.net/mrfz/images/f/fa/Ch%27en_icon.png/revision/latest/scale-to-width-down/120?cb=20190713060137   | https://static.wikia.nocookie.net/mrfz/images/6/61/Ch%27en.png/revision/latest?cb=20190713060137   |\n",
            "+-------+----------+------+----------+------------+--------+---------------------+-----------------------------+---------------+-------------------+------+--------------+-------------+--------+---------+-----------+---------+-----------------+---------+---------------+------------+---------------+-------+----------+----------+------+--------+--------+-----------+-----------+-------+---------+--------+-----------+-----------+-------+---------+--------+-----------+-----------+-------+---------------+------------------+------------------+--------------+------------+---------------+---------------+-----------+----------+-------------+-------------+---------+---------------+------------------+------------------+--------------+-----------------------------------+-------------------------------------------------------------------------------------------------------------------+-----------------------------------------------------------------------------------------------------------+------------------------------------------------------------------------------------------------------------------------------------+-------------------------------------------------------------------------------------------------------------+--------------------------------------------------------------------------------------------------------------------------------+----------------------------------------------------------------------------------------------------+\n",
            "only showing top 10 rows\n",
            "\n"
          ]
        }
      ]
    },
    {
      "cell_type": "code",
      "source": [
        "df.groupBy(\"faction\").count().show(truncate=False)"
      ],
      "metadata": {
        "colab": {
          "base_uri": "https://localhost:8080/"
        },
        "id": "mI1KROLQhDLo",
        "outputId": "3e6f58ff-5771-4e43-bb65-00b88adb719b"
      },
      "execution_count": null,
      "outputs": [
        {
          "output_type": "stream",
          "name": "stdout",
          "text": [
            "+----------------------------------------+-----+\n",
            "|faction                                 |count|\n",
            "+----------------------------------------+-----+\n",
            "|Team Rainbow                            |4    |\n",
            "|Kazimierz                               |6    |\n",
            "|Followers                               |3    |\n",
            "|Rhodes Island Operations Reserve Team A4|5    |\n",
            "|Siracusa                                |6    |\n",
            "|Yan                                     |5    |\n",
            "|Blacksteel                              |4    |\n",
            "|Sami                                    |2    |\n",
            "|Glasgow                                 |2    |\n",
            "|Bolívar                                 |3    |\n",
            "|Karlan Commercial                       |8    |\n",
            "|Victoria                                |20   |\n",
            "|Higashi                                 |9    |\n",
            "|Aegir                                   |2    |\n",
            "|Lee's Detective Agency                  |4    |\n",
            "|Iberia                                  |7    |\n",
            "|Sargon                                  |11   |\n",
            "|Rhodes Island Operations Reserve Team A6|5    |\n",
            "|Rhodes Island Elite Operators           |2    |\n",
            "|Pinus Sylvestris                        |5    |\n",
            "+----------------------------------------+-----+\n",
            "only showing top 20 rows\n",
            "\n"
          ]
        }
      ]
    },
    {
      "cell_type": "code",
      "source": [
        "from pyspark.sql.functions import col\n",
        "\n",
        "jadi_int = [\"base_hp\", \"base_atk\", \"base_def\"]\n",
        "\n",
        "for c in jadi_int:\n",
        "    df = df.withColumn(c, col(c).cast(\"int\"))\n",
        "\n",
        "df.select(jadi_int).describe().show()\n"
      ],
      "metadata": {
        "colab": {
          "base_uri": "https://localhost:8080/"
        },
        "id": "vRNuj09Z1vlW",
        "outputId": "0602effb-26a8-4123-a4f8-0162127d6a80"
      },
      "execution_count": 9,
      "outputs": [
        {
          "output_type": "stream",
          "name": "stdout",
          "text": [
            "+-------+-----------------+-----------------+------------------+\n",
            "|summary|          base_hp|         base_atk|          base_def|\n",
            "+-------+-----------------+-----------------+------------------+\n",
            "|  count|              235|              235|               235|\n",
            "|   mean|904.5361702127659|258.1914893617021|117.17872340425532|\n",
            "| stddev|302.6160330017471|92.71485518353542| 68.21423309437655|\n",
            "|    min|              261|               42|                16|\n",
            "|    max|             1882|              548|               354|\n",
            "+-------+-----------------+-----------------+------------------+\n",
            "\n"
          ]
        }
      ]
    }
  ]
}